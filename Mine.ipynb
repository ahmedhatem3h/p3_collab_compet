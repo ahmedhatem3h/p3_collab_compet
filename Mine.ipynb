{
 "cells": [
  {
   "cell_type": "code",
   "execution_count": 1,
   "metadata": {},
   "outputs": [],
   "source": [
    "from unityagents import UnityEnvironment\n",
    "import numpy as np\n",
    "import torch\n",
    "from collections import deque\n",
    "import matplotlib.pyplot as plt\n",
    "%matplotlib inline\n",
    "\n",
    "from MMADDPG import MADDPG"
   ]
  },
  {
   "cell_type": "code",
   "execution_count": 2,
   "metadata": {},
   "outputs": [
    {
     "name": "stderr",
     "output_type": "stream",
     "text": [
      "INFO:unityagents:\n",
      "'Academy' started successfully!\n",
      "Unity Academy name: Academy\n",
      "        Number of Brains: 1\n",
      "        Number of External Brains : 1\n",
      "        Lesson number : 0\n",
      "        Reset Parameters :\n",
      "\t\t\n",
      "Unity brain name: TennisBrain\n",
      "        Number of Visual Observations (per agent): 0\n",
      "        Vector Observation space type: continuous\n",
      "        Vector Observation space size (per agent): 8\n",
      "        Number of stacked Vector Observation: 3\n",
      "        Vector Action space type: continuous\n",
      "        Vector Action space size (per agent): 2\n",
      "        Vector Action descriptions: , \n"
     ]
    },
    {
     "name": "stdout",
     "output_type": "stream",
     "text": [
      "2\n",
      "2\n",
      "24\n"
     ]
    }
   ],
   "source": [
    "# get the default brain\n",
    "env = UnityEnvironment(file_name=\"/home/ahmed/Desktop/RL/drlnd/deep-reinforcement-learning/p3_collab-compet/Tennis_Linux/Tennis.x86\")\n",
    "brain_name = env.brain_names[0]\n",
    "brain = env.brains[brain_name]\n",
    "\n",
    "env_info = env.reset(train_mode=True)[brain_name]\n",
    "num_agents = len(env_info.agents)\n",
    "print(num_agents)\n",
    "action_size = brain.vector_action_space_size\n",
    "print(action_size)\n",
    "states = env_info.vector_observations\n",
    "state_size = states.shape[1]\n",
    "print(state_size)\n",
    "random_seed = 0"
   ]
  },
  {
   "cell_type": "code",
   "execution_count": 3,
   "metadata": {},
   "outputs": [],
   "source": [
    "maddpg = MADDPG(state_size, action_size, random_seed)"
   ]
  },
  {
   "cell_type": "code",
   "execution_count": 4,
   "metadata": {},
   "outputs": [
    {
     "name": "stdout",
     "output_type": "stream",
     "text": [
      "Episode 100 \tMax Score: 0.000 \tAverage Max Score: 0.006\n",
      "Episode 200 \tMax Score: 0.000 \tAverage Max Score: 0.007\n",
      "Episode 300 \tMax Score: 0.090 \tAverage Max Score: 0.003\n",
      "Episode 400 \tMax Score: 0.000 \tAverage Max Score: 0.006\n",
      "Episode 500 \tMax Score: 0.000 \tAverage Max Score: 0.005\n",
      "Episode 600 \tMax Score: 0.000 \tAverage Max Score: 0.007\n",
      "Episode 700 \tMax Score: 0.000 \tAverage Max Score: 0.008\n",
      "Episode 800 \tMax Score: 0.000 \tAverage Max Score: 0.008\n",
      "Episode 900 \tMax Score: 0.000 \tAverage Max Score: 0.003\n",
      "Episode 1000 \tMax Score: 0.000 \tAverage Max Score: 0.009\n",
      "Episode 1100 \tMax Score: 0.000 \tAverage Max Score: 0.004\n",
      "Episode 1200 \tMax Score: 0.000 \tAverage Max Score: 0.013\n",
      "Episode 1300 \tMax Score: 0.000 \tAverage Max Score: 0.010\n",
      "Episode 1400 \tMax Score: 0.000 \tAverage Max Score: 0.008\n",
      "Episode 1500 \tMax Score: 0.000 \tAverage Max Score: 0.004\n",
      "Episode 1600 \tMax Score: 0.000 \tAverage Max Score: 0.008\n",
      "Episode 1700 \tMax Score: 0.000 \tAverage Max Score: 0.010\n",
      "Episode 1800 \tMax Score: 0.000 \tAverage Max Score: 0.008\n",
      "Episode 1900 \tMax Score: 0.000 \tAverage Max Score: 0.006\n",
      "Episode 2000 \tMax Score: 0.000 \tAverage Max Score: 0.009\n",
      "Episode 2100 \tMax Score: 0.000 \tAverage Max Score: 0.007\n",
      "Episode 2200 \tMax Score: 0.000 \tAverage Max Score: 0.007\n",
      "Episode 2300 \tMax Score: 0.000 \tAverage Max Score: 0.004\n",
      "Episode 2400 \tMax Score: 0.000 \tAverage Max Score: 0.011\n",
      "Episode 2500 \tMax Score: 0.000 \tAverage Max Score: 0.009\n",
      "Episode 2600 \tMax Score: 0.000 \tAverage Max Score: 0.010\n",
      "Episode 2700 \tMax Score: 0.000 \tAverage Max Score: 0.007\n",
      "Episode 2800 \tMax Score: 0.000 \tAverage Max Score: 0.007\n",
      "Episode 2900 \tMax Score: 0.000 \tAverage Max Score: 0.007\n",
      "Episode 3000 \tMax Score: 0.000 \tAverage Max Score: 0.012\n",
      "Episode 3100 \tMax Score: 0.000 \tAverage Max Score: 0.006\n",
      "Episode 3200 \tMax Score: 0.000 \tAverage Max Score: 0.007\n",
      "Episode 3300 \tMax Score: 0.000 \tAverage Max Score: 0.007\n",
      "Episode 3400 \tMax Score: 0.000 \tAverage Max Score: 0.006\n",
      "Episode 3500 \tMax Score: 0.000 \tAverage Max Score: 0.006\n",
      "Episode 3600 \tMax Score: 0.000 \tAverage Max Score: 0.007\n",
      "Episode 3700 \tMax Score: 0.000 \tAverage Max Score: 0.011\n",
      "Episode 3800 \tMax Score: 0.000 \tAverage Max Score: 0.010\n",
      "Episode 3900 \tMax Score: 0.000 \tAverage Max Score: 0.007\n",
      "Episode 4000 \tMax Score: 0.000 \tAverage Max Score: 0.005\n",
      "Episode 4100 \tMax Score: 0.000 \tAverage Max Score: 0.008\n",
      "Episode 4200 \tMax Score: 0.000 \tAverage Max Score: 0.006\n",
      "Episode 4300 \tMax Score: 0.000 \tAverage Max Score: 0.002\n",
      "Episode 4400 \tMax Score: 0.000 \tAverage Max Score: 0.005\n",
      "Episode 4500 \tMax Score: 0.000 \tAverage Max Score: 0.009\n",
      "Episode 4600 \tMax Score: 0.000 \tAverage Max Score: 0.009\n",
      "Episode 4700 \tMax Score: 0.000 \tAverage Max Score: 0.008\n",
      "Episode 4800 \tMax Score: 0.000 \tAverage Max Score: 0.010\n",
      "Episode 4900 \tMax Score: 0.000 \tAverage Max Score: 0.013\n",
      "Episode 5000 \tMax Score: 0.000 \tAverage Max Score: 0.006\n"
     ]
    }
   ],
   "source": [
    "def main(n_episodes=5000):\n",
    "    '''\n",
    "    -------------------------------------------\n",
    "    Parameters\n",
    "    \n",
    "    n_episodes: # of episodes that the agent is training for\n",
    "    -------------------------------------------\n",
    "    '''\n",
    "    scores_deque = deque(maxlen=100)\n",
    "    scores = []\n",
    "    max_score = -np.inf\n",
    "    for i_episode in range(1, n_episodes+1):\n",
    "        env_info = env.reset(train_mode=True)[brain_name]             # turn on train mode of the environment\n",
    "        states = env_info.vector_observations                         # get the current state for each agent\n",
    "        #states = torch.from_numpy(states).float().to(device)\n",
    "        #maddpg.reset()                                                # reset the OU noise parameter \n",
    "        ep_scores = np.zeros(num_agents)                              # initialize the score for each agent\n",
    "        maddpg.reset_agents()\n",
    "        while True:\n",
    "            actions = maddpg.act(states)                             # select an action for each agent\n",
    "            #print(actions)\n",
    "            #actions = [t.numpy() for t in actions]\n",
    "            env_info = env.step(actions)[brain_name]                  # send all actions to the environment\n",
    "            next_states = env_info.vector_observations                # get next state for each agent\n",
    "            rewards = env_info.rewards                                # get reward for each agent\n",
    "            dones = env_info.local_done                               # check if episode finished\n",
    "            maddpg.step(states, actions, rewards, next_states, dones) # agents record enviroment response in recent step\n",
    "            states = next_states                                      # set the state as the next state for the following step for each agent\n",
    "            ep_scores += rewards                                      # update the total score\n",
    "            if np.any(dones):                                         # exit loop if episode for any agent finished\n",
    "                break \n",
    "                \n",
    "        scores_deque.append(np.max(ep_scores))\n",
    "        scores.append(ep_scores)\n",
    "        \n",
    "        # print average epsiode score and average 100-episode score for each episode\n",
    "        print('\\rEpisode {} \\tMax Score: {:.3f} \\tAverage Max Score: {:.3f}'.format(i_episode, np.max(ep_scores), np.mean(scores_deque)), end=\"\")  \n",
    "        if i_episode % 100 == 0:\n",
    "            print('\\rEpisode {} \\tMax Score: {:.3f} \\tAverage Max Score: {:.3f}'.format(i_episode, np.max(ep_scores), np.mean(scores_deque)))  \n",
    "        \n",
    "        # print and save actor and critic weights when a score of +30 over 100 episodes has been achieved\n",
    "        if np.mean(scores_deque) >= 0.5:\n",
    "            for i in range(num_agents):\n",
    "                torch.save(maddpg.maddpg_agents[i].actor_local.state_dict(), 'checkpoint_actor_{}_final.pth'.format(i))\n",
    "                torch.save(maddpg.maddpg_agents[i].critic_local.state_dict(), 'checkpoint_critic_{}_final.pth'.format(i))\n",
    "            print('\\nEnvironment solved in {:d} episodes!\\tAverage Max Score: {:.3f}'.format(i_episode-100, np.mean(scores_deque)))\n",
    "            break\n",
    "    return scores\n",
    "\n",
    "scores = main()"
   ]
  },
  {
   "cell_type": "code",
   "execution_count": 5,
   "metadata": {},
   "outputs": [
    {
     "data": {
      "image/png": "[encoded data removed]",
      "text/plain": [
       "<Figure size 432x288 with 1 Axes>"
      ]
     },
     "metadata": {
      "needs_background": "light"
     },
     "output_type": "display_data"
    }
   ],
   "source": [
    "fig = plt.figure()\n",
    "\n",
    "# plot scores\n",
    "t = np.arange(1,len(scores)+1)\n",
    "s = []\n",
    "i = 0\n",
    "while i < len(scores):\n",
    "    s.append(np.mean([np.max(s_ep) for s_ep in scores[i:i+100]]))\n",
    "    i += 1\n",
    "\n",
    "# plot max score/episode\n",
    "plt.plot(np.arange(1, len(scores)+1), [np.max(s_ep) for s_ep in scores])\n",
    "# plot average of max per next 100 episodes\n",
    "plt.plot(t, s, c='r', linewidth=2)\n",
    "# plot threshold line at +0.5\n",
    "plt.hlines(0.5, 0, len(scores), colors='g', linestyles='dashed')\n",
    "plt.ylabel('Score')\n",
    "plt.xlabel('Episode #')\n",
    "plt.show()\n",
    "\n",
    "env.close()"
   ]
  },
  {
   "cell_type": "code",
   "execution_count": null,
   "metadata": {},
   "outputs": [],
   "source": []
  },
  {
   "cell_type": "code",
   "execution_count": null,
   "metadata": {},
   "outputs": [],
   "source": []
  }
 ],
 "metadata": {
  "kernelspec": {
   "display_name": "drlnd",
   "language": "python",
   "name": "drlnd"
  },
  "language_info": {
   "codemirror_mode": {
    "name": "ipython",
    "version": 3
   },
   "file_extension": ".py",
   "mimetype": "text/x-python",
   "name": "python",
   "nbconvert_exporter": "python",
   "pygments_lexer": "ipython3",
   "version": "3.6.9"
  }
 },
 "nbformat": 4,
 "nbformat_minor": 4
}
